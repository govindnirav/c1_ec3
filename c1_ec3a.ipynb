{
 "cells": [
  {
   "cell_type": "markdown",
   "id": "de335658-0562-4908-924d-2cf380f503b8",
   "metadata": {},
   "source": [
    "# The curse of dimensionality\n"
   ]
  },
  {
   "cell_type": "markdown",
   "id": "86b31054-56a2-477b-aedc-c5ccedb1ba18",
   "metadata": {},
   "source": [
    "Here is a function that depends on time $t$ and 3 other parameters. \n",
    "\n",
    "In this example class we generate many samples of the function and \n",
    "then try to build an interpolator that approximates this function as accurately as possible.\n",
    "\n",
    "You can think of this function as a time series that depends on paramaters $a,b,c$.\n",
    "\n",
    "In this problem class, we will assume the ranges of the parameters are:\n",
    "\n",
    "- $0<a<1$\n",
    "\n",
    "- $-0.5<b<0.5$\n",
    "\n",
    "- $5<c<10$\n",
    "\n",
    "\n",
    "When not varied we will fix the values to $a=0.1$, $b=-0.13$, $c=9$.\n",
    "\n",
    "\n",
    "We will always assume time $t$ is between 0 and 1. Our time grid is `t = np.linspace(0, 1, 100)`, unless otherwise requested.\n"
   ]
  },
  {
   "cell_type": "code",
   "execution_count": null,
   "id": "f2bd52ec",
   "metadata": {},
   "outputs": [],
   "source": [
    "import pandas as pd\n",
    "import numpy as np\n",
    "import matplotlib.pyplot as plt\n",
    "from scipy.interpolate import interp1d\n",
    "from scipy.interpolate import griddata\n",
    "from pyDOE import *\n",
    "from ipywidgets import interactive\n",
    "import ipywidgets as widgets"
   ]
  },
  {
   "cell_type": "code",
   "execution_count": null,
   "id": "9136c692-4589-4ad5-81df-3451191a5ae5",
   "metadata": {},
   "outputs": [],
   "source": [
    "def f(t, a, b, c):\n",
    "    return np.sqrt(a) * np.exp(-b * t) * np.sin(c * t) + 0.5 * np.cos(2 * t)\n",
    "\n",
    "# Example usage\n",
    "# Define parameters\n",
    "a = 0.1\n",
    "b = -0.13\n",
    "c = 9\n",
    "\n",
    "\n",
    "# Define time range\n",
    "t = np.linspace(0, 1, 100)  # time from 0 to 1 with 100 points\n",
    "\n",
    "# Calculate f(t) for these parameters\n",
    "f_values = f(t, a, b, c)\n",
    "\n",
    "# Plot the function\n",
    "plt.figure(figsize=(10, 6))\n",
    "plt.plot(t, f_values, label=r'$f(t; a, b, c)$', color='blue')\n",
    "plt.xlabel('Time $t$')\n",
    "plt.ylabel(r'$f(t)$')\n",
    "plt.title(r'Time Series $f(t; a, b, c)$')\n",
    "plt.legend()\n",
    "plt.grid(True)\n",
    "plt.show()\n"
   ]
  },
  {
   "cell_type": "markdown",
   "id": "8b3af2bd-b0d6-4ab9-8056-fa532dda34cb",
   "metadata": {},
   "source": [
    "You can make a widget plot and play with different parameter values.  "
   ]
  },
  {
   "cell_type": "code",
   "execution_count": null,
   "id": "81e2fd46-55dc-44de-b4ef-61f99d17a274",
   "metadata": {},
   "outputs": [],
   "source": [
    "def plot_with_parameters(a, b, c):\n",
    "    # Define time range\n",
    "    t = np.linspace(0, 1, 100)\n",
    "    \n",
    "    # Calculate f(t) for these parameters \n",
    "    f_values = f(t, a, b, c)\n",
    "    \n",
    "    # Plot the function\n",
    "    plt.figure(figsize=(10, 6))\n",
    "    plt.plot(t, f_values, label=r'$f(t; a, b, c)$', color='blue')\n",
    "    plt.xlabel('Time $t$')\n",
    "    plt.ylabel(r'$f(t)$')\n",
    "    plt.title(r'Time Series $f(t; a, b, c)$')\n",
    "    plt.legend()\n",
    "    plt.grid(True)\n",
    "    plt.show()\n",
    "\n",
    "# Create interactive widget\n",
    "interactive_plot = interactive(\n",
    "    plot_with_parameters,\n",
    "    a=widgets.FloatSlider(min=0, max=1, step=0.01, value=0.1),\n",
    "    b=widgets.FloatSlider(min=-0.5, max=0.5, step=0.01, value=-0.13),\n",
    "    c=widgets.FloatSlider(min=5, max=10, step=0.1, value=9)\n",
    ")\n",
    "\n",
    "display(interactive_plot)"
   ]
  },
  {
   "cell_type": "markdown",
   "id": "6558b71b",
   "metadata": {},
   "source": [
    "The goal of this problem class is to sample this function across all its parameter space and create interpolators. \n",
    "\n",
    "You should aim to understand the limitations of interpolation and how to deal with this very important problem. "
   ]
  },
  {
   "cell_type": "markdown",
   "id": "604fa6a0-ce1f-43f6-99ac-2380affdc574",
   "metadata": {},
   "source": [
    "## Question 1\n",
    "\n",
    "Consider all parameter values (except $t$) are fixed and create an interpolator with respect to time $t$. \n",
    "\n",
    "You use the original grid for the interpolation. "
   ]
  },
  {
   "cell_type": "code",
   "execution_count": null,
   "id": "99c11f18",
   "metadata": {},
   "outputs": [],
   "source": [
    "t = np.linspace(0, 1, 100)"
   ]
  },
  {
   "cell_type": "markdown",
   "id": "b155a079",
   "metadata": {},
   "source": [
    "### Question 1 Answer"
   ]
  },
  {
   "cell_type": "code",
   "execution_count": 77,
   "id": "1640a1b3",
   "metadata": {},
   "outputs": [],
   "source": [
    "# Define function\n",
    "def f(t, a, b, c):\n",
    "    return np.sqrt(a) * np.exp(-b * t) * np.sin(c * t) + 0.5 * np.cos(2 * t)\n",
    "\n",
    "# Define parameters\n",
    "a = 0.1\n",
    "b = -0.13\n",
    "c = 9\n",
    "\n",
    "# Calculate f(t) for these parameters\n",
    "f_values = f(t, a, b, c)\n",
    "\n",
    "# Def an interpolating function\n",
    "g = interp1d(t, f_values, kind='linear')"
   ]
  },
  {
   "cell_type": "markdown",
   "id": "9270b5ba-a43e-4100-8347-306ef72a01b5",
   "metadata": {},
   "source": [
    "## Question 2\n",
    "\n",
    "Evaluate the interpolator on a much finer grid than the original $t$ grid. "
   ]
  },
  {
   "cell_type": "code",
   "execution_count": 78,
   "id": "0f613e2d",
   "metadata": {},
   "outputs": [],
   "source": [
    "# Finer time grid for evaluation\n",
    "t_fine = np.linspace(0, 1, 1000)\n",
    "f_interp = g(t_fine)\n",
    "f_exact=f(t_fine, a, b, c)"
   ]
  },
  {
   "cell_type": "markdown",
   "id": "9df6c2f1-b6ac-41f5-b3ee-3c8b396c501e",
   "metadata": {},
   "source": [
    "## Question 3\n",
    "\n",
    "Show the results of question 2 in a plot, showing both the exact function and the predictions of the interpolator. "
   ]
  },
  {
   "cell_type": "code",
   "execution_count": null,
   "id": "9f75e203",
   "metadata": {},
   "outputs": [
    {
     "data": {
      "image/png": "[encoded data removed]",
      "text/plain": [
       "<Figure size 1000x600 with 1 Axes>"
      ]
     },
     "metadata": {},
     "output_type": "display_data"
    }
   ],
   "source": [
    "# Plot the original samples and the interpolated function\n",
    "plt.figure(figsize=(10, 6))\n",
    "plt.plot(t, f_values, 'o', label='Original Samples', color='black', markersize=5)\n",
    "plt.plot(t_fine, f_interp, '-', label='Interpolated Curve', color='blue', linewidth=3)\n",
    "plt.plot(t_fine, f_exact, '-', label='Exact Function', color='red', linewidth=1.5)\n",
    "plt.xlabel('Time $t$')\n",
    "plt.ylabel(r'$f(t)$')\n",
    "plt.title('Original Samples and Interpolated Function')\n",
    "plt.legend()\n",
    "plt.grid(True)\n",
    "plt.show()"
   ]
  },
  {
   "cell_type": "markdown",
   "id": "85856646-0a9c-4c07-89b1-f8cb6f154294",
   "metadata": {},
   "source": [
    "## Question 4\n",
    "\n",
    "Show the ratio of the interpolated values to true values accross the fine time grid. \n",
    "\n",
    "What do you observe? Does it make sense?\n"
   ]
  },
  {
   "cell_type": "code",
   "execution_count": null,
   "id": "eba34386",
   "metadata": {},
   "outputs": [],
   "source": [
    "ratio = f_interp / f_exact\n",
    "\n",
    "plt.figure(figsize=(10, 6))\n",
    "plt.plot(t_fine, ratio, label='Ratio of Interpolated to Exact', color='purple')\n",
    "plt.plot(t_fine, f_exact, '-', label='Exact Function', color='blue', linewidth=1.5)\n",
    "plt.xlabel('Time $t$')\n",
    "plt.ylabel('Ratio/'r'$f(t)$')\n",
    "plt.title('Ratio of Interpolated Values to True Values')\n",
    "plt.legend()\n",
    "plt.grid(True)\n",
    "plt.show()"
   ]
  },
  {
   "cell_type": "markdown",
   "id": "f6366aae-fb92-44c0-bc64-ebc57c669128",
   "metadata": {},
   "source": [
    "## Question 5"
   ]
  },
  {
   "cell_type": "markdown",
   "id": "dc6f8036-5092-40f3-86e6-dcef18a36821",
   "metadata": {},
   "source": [
    "Consider now all paramaters fixed except $a$ (and $t$). \n",
    "\n",
    "We assume the parameter $a$ can take values between 0 and 1.\n",
    "\n",
    "Generate 10 samples of $f$ (i.e., 10 time series)  corresponding to linearly spaced values of $a$ spanning the interval.\n",
    "\n",
    "Store them in a `pandas` DataFrame and plot them with the `plot` method of the DataFrame. \n"
   ]
  },
  {
   "cell_type": "code",
   "execution_count": null,
   "id": "6197962b",
   "metadata": {},
   "outputs": [],
   "source": [
    "# Define function\n",
    "def f(t, a, b, c):\n",
    "    return np.sqrt(a) * np.exp(-b * t) * np.sin(c * t) + 0.5 * np.cos(2 * t)\n",
    "\n",
    "# Define parameters\n",
    "a = np.linspace(0,1,10)\n",
    "b = -0.13\n",
    "c = 9\n",
    "t = np.linspace(0, 1, 100)\n",
    "\n",
    "# Create an empty DataFrame to store the time series data\n",
    "df = pd.DataFrame(index=t)\n",
    "\n",
    "# Compute and store the time series for each a value\n",
    "for i in a:\n",
    "    f_values = f(t, i, b, c)\n",
    "    df[f'a={i:.2f}'] = f_values \n",
    "\n",
    "print(df)"
   ]
  },
  {
   "cell_type": "code",
   "execution_count": null,
   "id": "ce49bc89",
   "metadata": {},
   "outputs": [],
   "source": [
    "# Plotting\n",
    "plt.figure(figsize=(12, 8))\n",
    "for column in df.columns:\n",
    "    plt.plot(t, df[column], label=column)\n",
    "plt.xlabel('Time $t$')\n",
    "plt.ylabel(r'$f(t)$')\n",
    "plt.title('Time Series for Different Values of $a$')\n",
    "plt.legend()\n",
    "plt.grid(True)\n",
    "plt.show()"
   ]
  },
  {
   "cell_type": "markdown",
   "id": "e06fb7ea-a0a1-4be3-8d87-050e0b23194d",
   "metadata": {},
   "source": [
    "## Question 6 \n",
    "\n",
    "Create an interpolator that interpolates over $a$ (same range as previous question) and returns the full time series (i.e., values of $f$ for all time points) over the original time grid, i.e., $t$. "
   ]
  },
  {
   "cell_type": "code",
   "execution_count": null,
   "id": "d29a9b69",
   "metadata": {},
   "outputs": [],
   "source": [
    "t = np.linspace(0, 1, 100)"
   ]
  },
  {
   "cell_type": "code",
   "execution_count": null,
   "id": "9dd6c893",
   "metadata": {},
   "outputs": [],
   "source": [
    "# Def an interpolating function\n",
    "g = interp1d(a, df.values, kind='linear', axis=1) # Axis = 1 means the interpolation is conducted over columns of the df (ie. for each value of a)"
   ]
  },
  {
   "cell_type": "markdown",
   "id": "f912b872-8018-41b6-890d-d90adb708aba",
   "metadata": {},
   "source": [
    "Plot the result for $a=0.125$, like in  question 3.\n",
    "\n",
    "Plot the ratio, like in question 4. "
   ]
  },
  {
   "cell_type": "code",
   "execution_count": null,
   "id": "4904092e",
   "metadata": {},
   "outputs": [],
   "source": [
    "a_test = 0.125\n",
    "f_exact = f(t, 0.125, b, c)\n",
    "f_interp = g(a_test)\n",
    "\n",
    "print(f_interp)\n",
    "print(f_exact)\n",
    "\n",
    "plt.figure(figsize=(12, 6))\n",
    "plt.plot(t, f_interp, label=f'Interpolated Series for a={a_test:.3f}',color='blue', linewidth=1)\n",
    "plt.plot(t, f_exact, label=f'Exact Series for a={a_test:.3f}', color='red', linewidth=1)\n",
    "plt.xlabel('Time $t$')\n",
    "plt.ylabel(r'$f(t)$')\n",
    "plt.title(f'Interpolated Time Series for a={a_test:.3f}')\n",
    "plt.legend()\n",
    "plt.grid(True)\n",
    "plt.show()\n"
   ]
  },
  {
   "cell_type": "code",
   "execution_count": null,
   "id": "ddaf11c4",
   "metadata": {},
   "outputs": [],
   "source": [
    "ratio = f_interp / f_exact\n",
    "\n",
    "plt.figure(figsize=(10, 6))\n",
    "plt.plot(t, ratio, label='Ratio of Interpolated to Exact', color='purple')\n",
    "plt.plot(t, f_exact, '-', label='Exact Function', color='blue', linewidth=1.5)\n",
    "plt.xlabel('Time $t$')\n",
    "plt.ylabel('Ratio/'r'$f(t)$')\n",
    "plt.title(f'Ratio of Interpolated Values to True Values when a = {a_test}')\n",
    "plt.legend()\n",
    "plt.grid(True)\n",
    "plt.show()"
   ]
  },
  {
   "cell_type": "markdown",
   "id": "613756ba-3f12-4f5b-925b-2cb633b5b612",
   "metadata": {},
   "source": [
    "## Question 7\n",
    "\n",
    "Use `widgets` from `ipywidgets` to create a sliding scale of `a` values. \n",
    "\n",
    "In this question, you should plot the ratio between the interpolated values and the true values of the function evaluated at the original time grid $t$. \n",
    "\n",
    "\n"
   ]
  },
  {
   "cell_type": "code",
   "execution_count": null,
   "id": "6aef809f",
   "metadata": {},
   "outputs": [],
   "source": [
    "# Define function\n",
    "def f(t, a, b, c):\n",
    "    return np.sqrt(a) * np.exp(-b * t) * np.sin(c * t) + 0.5 * np.cos(2 * t)\n",
    "\n",
    "# Define interactive plotting function\n",
    "def inter_plot(a_test):\n",
    "    a = np.linspace(0,1,10)\n",
    "    t = np.linspace(0,1,100)\n",
    "    b = -0.13\n",
    "    c = 9\n",
    "\n",
    "    # Create an empty DataFrame to store the time series data\n",
    "    df = pd.DataFrame(index=t)\n",
    "\n",
    "    # Compute and store the time series for each a value\n",
    "    for i in a:\n",
    "        f_values = f(t, i, b, c)\n",
    "        df[f'a={i:.2f}'] = f_values \n",
    "\n",
    "    # Def an interpolating function\n",
    "    g = interp1d(a, df.values, kind='linear', axis=1)\n",
    "    \n",
    "    f_exact = f(t, a_test, b, c)\n",
    "    f_interp = g(a_test)\n",
    "\n",
    "    ratio = f_interp / f_exact\n",
    "\n",
    "    plt.figure(figsize=(10, 6))\n",
    "    plt.plot(t, ratio, label='Ratio of Interpolated to Exact', color='purple')\n",
    "    plt.plot(t, f_exact, '-', label='Exact Function', color='blue', linewidth=1.5)\n",
    "    plt.xlabel('Time $t$')\n",
    "    plt.ylabel('Ratio/'r'$f(t)$')\n",
    "    plt.title('Ratio of Interpolated Values to True Values')\n",
    "    plt.legend()\n",
    "    plt.grid(True)\n",
    "    plt.show()\n",
    "\n",
    "interactive_plott = interactive(\n",
    "    inter_plot,\n",
    "    a_test=widgets.FloatSlider(min=0, max=1, step=0.01, value=0.1)\n",
    ")\n",
    "\n",
    "display(interactive_plott)"
   ]
  },
  {
   "cell_type": "markdown",
   "id": "860d0db9",
   "metadata": {},
   "source": [
    "## Question 8\n",
    "\n",
    "From your results of Question 7, what do you observe? Does it make sense?\n"
   ]
  },
  {
   "cell_type": "markdown",
   "id": "57ec2cda",
   "metadata": {},
   "source": []
  },
  {
   "cell_type": "markdown",
   "id": "275f4c66-db29-416c-b349-f1d50bd9d8d6",
   "metadata": {},
   "source": [
    "## Question 9 \n",
    "\n",
    "We will now consider both $a$ and $b$ as interpolation parameters. \n",
    "\n",
    "\n",
    "Our interpolator should therefore interpolate accross both $a$ and $b$ ranges. \n",
    "\n",
    "Generate $10^2$ parameter value pairs $(a,b)$ in the range $0<a<1$ and $-0.5<b<0.5$ using [latin hyper cube](https://pythonhosted.org/pyDOE/randomized.html) sampling. \n",
    "\n",
    "\n",
    "Show the $a$ and $b$ samples as a 2D scatter plot. \n"
   ]
  },
  {
   "cell_type": "code",
   "execution_count": null,
   "id": "f3250ec1",
   "metadata": {},
   "outputs": [],
   "source": [
    "# Obtaining 10 random values of a and b which are seeded and comply with range\n",
    "np.random.seed(5)\n",
    "\n",
    "N=10\n",
    "a=lhs(1,samples=N).flatten()\n",
    "#print(a)\n",
    "\n",
    "b = np.interp(lhs(1,samples=N).flatten(), (0, 1), (-0.5, 0.5)) # To comply with range of b\n",
    "#print(b)\n",
    "\n",
    "# Defining a grid to print A and B\n",
    "A, B = np.meshgrid(a, b)\n",
    "#print(\"A.shape, B.shape:\", A.shape, B.shape)\n",
    "\n",
    "# Flatten the meshgrid arrays to use them as coordinates for the scatter plot\n",
    "A_flat = A.flatten()\n",
    "B_flat = B.flatten()\n",
    "\n",
    "# Create the scatter plot\n",
    "plt.figure(figsize=(10, 6))\n",
    "plt.scatter(A_flat, B_flat, color='blue', marker='o')\n",
    "plt.xlabel('Parameter $a$')\n",
    "plt.ylabel('Parameter $b$')\n",
    "plt.title('Scatter Plot of $(a, b)$ Values')\n",
    "plt.grid(True)\n",
    "plt.show()"
   ]
  },
  {
   "cell_type": "markdown",
   "id": "dc664e09-08ba-420d-9087-b611d8e700e5",
   "metadata": {},
   "source": [
    "## Question 10\n",
    "\n",
    "For comparison, on the same plot, add a uniformly sampled realization of $10^2$ $a$ and $b$ values.\n"
   ]
  },
  {
   "cell_type": "code",
   "execution_count": null,
   "id": "3b51a73c",
   "metadata": {},
   "outputs": [],
   "source": [
    "aa = np.linspace(0,1,10)\n",
    "#print(a)\n",
    "\n",
    "bb = np.linspace(-0.5,0.5,10)\n",
    "#print(b)\n",
    "\n",
    "# Defining a grid to print A and B\n",
    "AA, BB = np.meshgrid(aa, bb)\n",
    "#print(\"A.shape, B.shape:\", A.shape, B.shape)\n",
    "\n",
    "# Flatten the meshgrid arrays to use them as coordinates for the scatter plot\n",
    "AA_flat = AA.flatten()\n",
    "BB_flat = BB.flatten()\n",
    "\n",
    "# Create the scatter plot\n",
    "plt.figure(figsize=(10, 6))\n",
    "plt.scatter(A_flat, B_flat, label='LHS Sample', color='blue', marker='o')\n",
    "plt.scatter(AA_flat, BB_flat, label='Uniformly Spaced', color='red', marker='x')\n",
    "plt.xlabel('Parameter $a$')\n",
    "plt.ylabel('Parameter $b$')\n",
    "plt.legend()\n",
    "plt.title('Scatter Plot of $(a, b)$ Values')\n",
    "plt.grid(True)\n",
    "plt.show()"
   ]
  },
  {
   "cell_type": "markdown",
   "id": "3f93d43d-7631-46d0-99db-aa5a513589f9",
   "metadata": {},
   "source": [
    "Can you distinguish by eye? \n",
    "\n",
    "As an extension question, think of how you would proceed if \n",
    "you needed to prove that these samples come from different generative processes (uniform or Latin Hyper Cube). "
   ]
  },
  {
   "cell_type": "code",
   "execution_count": null,
   "id": "4f374c2e",
   "metadata": {},
   "outputs": [],
   "source": []
  },
  {
   "cell_type": "markdown",
   "id": "5649d3fc-5c5a-48d5-b1b8-17a5a075f29e",
   "metadata": {},
   "source": [
    "## Question 11\n",
    "\n",
    "\n",
    "Create the interpolator over the parameter space $(a,b)$, interpolating over samples of the function evaluated at the original time grid $t$.\n",
    "\n",
    "As you will realise, we are dealing with an irregular grid and need the `griddata` method ([doc](https://docs.scipy.org/doc/scipy/reference/generated/scipy.interpolate.griddata.html)).  "
   ]
  },
  {
   "cell_type": "code",
   "execution_count": null,
   "id": "44e7c2c1",
   "metadata": {},
   "outputs": [],
   "source": [
    "# Define function\n",
    "def f(t, a, b, c):\n",
    "    return np.sqrt(a) * np.exp(-b * t) * np.sin(c * t) + 0.5 * np.cos(2 * t)\n",
    "\n",
    "# Defining parameters\n",
    "c = 9\n",
    "t = np.linspace(0, 1, 100)\n",
    "\n",
    "# Irregularly spaced data points\n",
    "# Obtaining 10 random values of a and b which are seeded and comply with range\n",
    "np.random.seed(5)\n",
    "N = 10\n",
    "a_sample = lhs(1, samples=N).flatten()\n",
    "b_sample = np.interp(lhs(1, samples=N).flatten(), (0, 1), (-0.5, 0.5))\n",
    "#print(a_sample, b_sample)\n",
    "\n",
    "# Create an empty DataFrame to store the time series data\n",
    "f_sample = np.array([f(i, a_sample, b_sample, c) for i in t]) # Creates a time series of f values for every (a_sample, b_sample)\n",
    "print(f_sample)\n",
    "print(f_sample.shape)"
   ]
  },
  {
   "cell_type": "code",
   "execution_count": null,
   "id": "f1aef2bb",
   "metadata": {},
   "outputs": [],
   "source": [
    "# Define a regular grid over which to interpolate\n",
    "ai = np.linspace(0, 1, 50)\n",
    "bi = np.linspace(-0.5, 0.5, 50)\n",
    "a_grid, b_grid = np.meshgrid(ai, bi)\n",
    "\n",
    "# Create an empty DataFrame to store the interpolated data\n",
    "interp_df = pd.DataFrame(index=pd.MultiIndex.from_product([ai, bi], names=['a', 'b']))\n",
    "\n",
    "# Interpolate the data for each time step\n",
    "for i, j in enumerate(t):\n",
    "    f_value = f_sample[i, :]  # Get values at this time step for all (a, b)\n",
    "    f_interp = griddata(\n",
    "        points = np.column_stack((a_sample, b_sample)), \n",
    "        values = f_value, \n",
    "        xi = (a_grid, b_grid), \n",
    "        method='cubic'\n",
    "    )\n",
    "    interp_df[f't={j:.2f}'] = f_interp.flatten()\n",
    "\n",
    "print(interp_df)"
   ]
  },
  {
   "cell_type": "code",
   "execution_count": null,
   "id": "27316636",
   "metadata": {},
   "outputs": [],
   "source": [
    "# Define a regular grid over which to interpolate\n",
    "ai = np.linspace(0, 1, 50)\n",
    "bi = np.linspace(-0.5, 0.5, 50)\n",
    "a_grid, b_grid = np.meshgrid(ai, bi)\n",
    "\n",
    "# Create an empty DataFrame to store the interpolated data\n",
    "interp_df = pd.DataFrame(index=pd.MultiIndex.from_product([ai, bi], names=['a', 'b']))\n",
    "\n",
    "# Interpolate the data for each time step\n",
    "for i, j in enumerate(t):\n",
    "    f_value = f_sample[i, :]  # Get values at this time step for all (a, b)\n",
    "    f_interp = griddata(\n",
    "        points = np.column_stack((a_sample, b_sample)), \n",
    "        values = f_value, \n",
    "        xi = (a_grid, b_grid), \n",
    "        method='cubic'\n",
    "    )\n",
    "    interp_df[f't={j:.2f}'] = f_interp.flatten()\n",
    "\n",
    "print(interp_df)"
   ]
  },
  {
   "cell_type": "markdown",
   "id": "b4669ed0-b3e9-411a-9ec9-d0db11841597",
   "metadata": {},
   "source": [
    "## Question 12 \n",
    "\n",
    "Show results with a sliding scale plot for $a$ and $b$.\n",
    "\n",
    "On a different sliding bar plot, show the ratio between the interpolated values and the true values of the function evaluated at the original time grid $t$. "
   ]
  },
  {
   "cell_type": "code",
   "execution_count": 70,
   "id": "99cd5e73",
   "metadata": {},
   "outputs": [
    {
     "data": {
      "application/vnd.jupyter.widget-view+json": {
       "model_id": "63eb014f271740d68a2d641d88eeedfd",
       "version_major": 2,
       "version_minor": 0
      },
      "text/plain": [
       "interactive(children=(FloatSlider(value=0.1, description='a', max=1.0, step=0.01), FloatSlider(value=-0.13, de…"
      ]
     },
     "metadata": {},
     "output_type": "display_data"
    }
   ],
   "source": [
    "def interp_plot(a, b):\n",
    "    # Find the closest grid points for 'a' and 'b'\n",
    "    a_idx = (np.abs(ai - a)).argmin()\n",
    "    b_idx = (np.abs(bi - b)).argmin()\n",
    "    \n",
    "    # Extract the interpolated function values at the selected a, b over time\n",
    "    f_time = interp_df.iloc[(a_idx * len(bi)) + b_idx].values\n",
    "\n",
    "    # Plot the interpolated function with time on the x-axis\n",
    "    plt.figure(figsize=(8, 6))\n",
    "    plt.plot(t, f_time, label=f\"f(a={a:.2f}, b={b:.2f}, t)\", color=\"blue\")\n",
    "    plt.xlabel(\"Time (t)\")\n",
    "    plt.ylabel(\"Interpolated f(a, b, t)\")\n",
    "    plt.title(f\"Evolution of f(a, b, t) over time (a={a:.2f}, b={b:.2f})\")\n",
    "    plt.legend()\n",
    "    plt.grid()\n",
    "    plt.show()\n",
    "\n",
    "# Create interactive widget\n",
    "interactive_plot = interactive(\n",
    "    interp_plot,\n",
    "    a=widgets.FloatSlider(min=0, max=1, step=0.01, value=0.1),\n",
    "    b=widgets.FloatSlider(min=-0.5, max=0.5, step=0.01, value=-0.13),\n",
    ")\n",
    "\n",
    "display(interactive_plot)"
   ]
  },
  {
   "cell_type": "code",
   "execution_count": 71,
   "id": "3661d18d",
   "metadata": {},
   "outputs": [
    {
     "data": {
      "application/vnd.jupyter.widget-view+json": {
       "model_id": "38d5a786ffe54a1b916dede9cb0327bf",
       "version_major": 2,
       "version_minor": 0
      },
      "text/plain": [
       "interactive(children=(FloatSlider(value=0.1, description='t', max=1.0, step=0.01), Output()), _dom_classes=('w…"
      ]
     },
     "metadata": {},
     "output_type": "display_data"
    }
   ],
   "source": [
    "# Function to plot the interpolated data for a specific time step\n",
    "def plot_interpolated_values(t=0.5):\n",
    "    col_name = f't={t:.2f}'  # Construct the column name for the selected time step\n",
    "    \n",
    "    if col_name in interp_df.columns:\n",
    "        # Extract and reshape the data for the current time step\n",
    "        f_interp = interp_df[col_name].values.reshape(len(ai), len(bi))\n",
    "        \n",
    "        # Plot the data\n",
    "        plt.figure(figsize=(8, 6))\n",
    "        plt.pcolormesh(ai, bi, f_interp, shading='auto', cmap='viridis')\n",
    "        plt.colorbar(label='Interpolated Values')\n",
    "        plt.title(f\"Interpolated Values at Time t={t:.2f}\")\n",
    "        plt.xlabel('a')\n",
    "        plt.ylabel('b')\n",
    "        \n",
    "        # Optionally, overlay the original sample points for reference\n",
    "        plt.scatter(a_sample, b_sample, c='red', edgecolor='k', label='Sample Points', marker='o')\n",
    "        plt.legend()\n",
    "        plt.show()\n",
    "    else:\n",
    "        print(f\"No data available for time t={t:.2f}\")\n",
    "\n",
    "# Create an interactive widget for choosing the time step to plot\n",
    "interactive_plot = interactive(\n",
    "    plot_interpolated_values,\n",
    "    t=widgets.FloatSlider(min=0, max=1, step=0.01, value=0.1)\n",
    ")\n",
    "\n",
    "display(interactive_plot)"
   ]
  },
  {
   "cell_type": "markdown",
   "id": "a2c3a46a",
   "metadata": {},
   "source": [
    "What do you observe? \n",
    "\n",
    "Does it make sense? "
   ]
  },
  {
   "cell_type": "markdown",
   "id": "2780bf9c-2254-41bd-ba0e-30cd168f1036",
   "metadata": {},
   "source": [
    "## Question 13\n",
    "\n",
    "Compare memory and time of (i) the original function call and (ii) the interpolator call. \n",
    "\n",
    "Comment. "
   ]
  },
  {
   "cell_type": "markdown",
   "id": "83be78d0-b133-4fe3-80a7-45c011f35688",
   "metadata": {},
   "source": [
    "## Question 14\n",
    "\n",
    "Add a third parameter, $c$ to our interpolation problem and repeat questions 9 to 13. \n",
    "\n",
    "For this parameter, use a range of $5<c<10$. \n",
    "\n",
    "Comment on the results. "
   ]
  },
  {
   "cell_type": "markdown",
   "id": "f0131d70-dd79-4bef-89cc-8fbb73a49cb2",
   "metadata": {},
   "source": [
    "## Question 15\n",
    "\n",
    "Instead of interpolating with the griddata method, use (i) a gaussian process, and (ii) a neural network whose output layer is the function predicted at the $10^2$ points of the time grid and input layer is a,b,c values.  \n",
    "\n",
    "What do you observe in terms of (i) time and (ii) memory? Comment on scalability in all cases covered. \n",
    "\n",
    "\n",
    "**Tips**: For the neural net part of this question use Google Colab and the GPUs there. Training should take a few minutes. A good idea for you to practice is also to use CSD3 to solve this question.\n"
   ]
  }
 ],
 "metadata": {
  "kernelspec": {
   "display_name": "c1_ec3",
   "language": "python",
   "name": "python3"
  },
  "language_info": {
   "codemirror_mode": {
    "name": "ipython",
    "version": 3
   },
   "file_extension": ".py",
   "mimetype": "text/x-python",
   "name": "python",
   "nbconvert_exporter": "python",
   "pygments_lexer": "ipython3",
   "version": "3.12.0"
  },
  "widgets": {
   "application/vnd.jupyter.widget-state+json": {
    "state": {},
    "version_major": 2,
    "version_minor": 0
   }
  }
 },
 "nbformat": 4,
 "nbformat_minor": 5
}
